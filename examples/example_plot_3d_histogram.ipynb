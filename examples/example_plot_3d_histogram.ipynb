{
 "cells": [
  {
   "cell_type": "markdown",
   "metadata": {},
   "source": [
    "# Example: Plotting a bin collection and subsample"
   ]
  },
  {
   "cell_type": "markdown",
   "metadata": {},
   "source": [
    "This notebook contains a minimal example of the `plot` method in the `BinCollection` class, used to plot a 3D histogram of the collection, and of a subsample drawn from it. "
   ]
  },
  {
   "cell_type": "code",
   "execution_count": null,
   "metadata": {},
   "outputs": [],
   "source": [
    "%matplotlib notebook\n",
    "\n",
    "import os\n",
    "import yaml\n",
    "from io import StringIO\n",
    "from numpy.random import seed as npseed  # type: ignore\n",
    "from pandas import read_csv\n",
    "\n",
    "# os.chdir(\"..\")\n",
    "os.chdir(\"/Users/thobson/github/Living-with-machines/subsamplr\")\n",
    "from subsamplr import BinCollection, UnitGenerator"
   ]
  },
  {
   "cell_type": "markdown",
   "metadata": {},
   "source": [
    "Configuration parameters specifying the subsampling variables of interest, their upper & lower bounds and bin sizes:"
   ]
  },
  {
   "cell_type": "code",
   "execution_count": null,
   "metadata": {},
   "outputs": [],
   "source": [
    "config_str = \"\"\"\n",
    "    # Subsampling dimensions\n",
    "    variables:\n",
    "        - {name: 'year', class: 'discrete', type: 'int', min: 1800,\n",
    "            max: 1919, discretisation: 1, bin_size: 10}\n",
    "        - {name: 'word_count', class: 'continuous', type: 'int',\n",
    "            min: 0, max: 1000, bin_size: 100}\n",
    "        - {name: 'ocr_quality_mean', class: 'continuous', type: 'float',\n",
    "            min: 0.6, max: 1, bin_size: 0.1}\n",
    "    \"\"\"\n"
   ]
  },
  {
   "cell_type": "code",
   "execution_count": null,
   "metadata": {},
   "outputs": [],
   "source": [
    "# Read the YAML config.\n",
    "config = yaml.safe_load(StringIO(config_str))"
   ]
  },
  {
   "cell_type": "markdown",
   "metadata": {},
   "source": [
    "A `BinCollection` instance is constructed, with dimensions taken from the configuration parameters."
   ]
  },
  {
   "cell_type": "code",
   "execution_count": null,
   "metadata": {},
   "outputs": [],
   "source": [
    "bc = BinCollection.construct(config)"
   ]
  },
  {
   "cell_type": "markdown",
   "metadata": {},
   "source": [
    "Newspaper article data is taken from the test fixture containing 100,000 rows."
   ]
  },
  {
   "cell_type": "code",
   "execution_count": null,
   "metadata": {},
   "outputs": [],
   "source": [
    "df = read_csv('tests/fixtures/articles_query_result_100000.csv', sep=\",\")\n",
    "df.head()"
   ]
  },
  {
   "cell_type": "markdown",
   "metadata": {},
   "source": [
    "Subsampling units are generated from the data and assigned to the `BinCollection`."
   ]
  },
  {
   "cell_type": "code",
   "execution_count": null,
   "metadata": {},
   "outputs": [],
   "source": [
    "# Generate article units from the test fixture (data frame)\n",
    "# and assign to the bin collection.\n",
    "units = UnitGenerator.generate_units(\n",
    "    df, unit_id=\"article_id\", variables=bc.dimensions)\n",
    "\n",
    "for unit, values in units:\n",
    "    bc.assign_to_bin(unit, values)"
   ]
  },
  {
   "cell_type": "markdown",
   "metadata": {},
   "source": [
    "From the 100,000 rows in the data, 61581 are assigned to bins (the others being excluded, either because they fall outside the configured bounds of the bin collection, or because they contain missing values)."
   ]
  },
  {
   "cell_type": "code",
   "execution_count": null,
   "metadata": {},
   "outputs": [],
   "source": [
    "bc.count_units()"
   ]
  },
  {
   "cell_type": "markdown",
   "metadata": {},
   "source": [
    "Draw a representative subsample of 1,000 articles."
   ]
  },
  {
   "cell_type": "code",
   "execution_count": null,
   "metadata": {},
   "outputs": [],
   "source": [
    "k = 1000\n",
    "seed = 14722\n",
    "npseed(seed)\n",
    "subsample = bc.select_units(k)"
   ]
  },
  {
   "cell_type": "markdown",
   "metadata": {},
   "source": [
    "Finally plot the full `BinCollection` and the subsample."
   ]
  },
  {
   "cell_type": "code",
   "execution_count": null,
   "metadata": {},
   "outputs": [],
   "source": [
    "bc.plot(subsample=subsample)"
   ]
  }
 ],
 "metadata": {
  "kernelspec": {
   "display_name": "subsamplr",
   "language": "python",
   "name": "subsamplr"
  },
  "language_info": {
   "codemirror_mode": {
    "name": "ipython",
    "version": 3
   },
   "file_extension": ".py",
   "mimetype": "text/x-python",
   "name": "python",
   "nbconvert_exporter": "python",
   "pygments_lexer": "ipython3",
   "version": "3.8.5"
  }
 },
 "nbformat": 4,
 "nbformat_minor": 2
}
